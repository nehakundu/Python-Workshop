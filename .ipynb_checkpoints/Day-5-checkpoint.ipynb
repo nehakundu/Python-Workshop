{
 "cells": [
  {
   "cell_type": "markdown",
   "metadata": {},
   "source": [
    "### Todays concepts:\n",
    "- OOPs\n",
    "- Regular Expressions\n",
    "- Files\n",
    "- Matplotlib"
   ]
  },
  {
   "cell_type": "code",
   "execution_count": 24,
   "metadata": {},
   "outputs": [
    {
     "ename": "IndentationError",
     "evalue": "unexpected indent (<ipython-input-24-03377b2c20f9>, line 7)",
     "output_type": "error",
     "traceback": [
      "\u001b[1;36m  File \u001b[1;32m\"<ipython-input-24-03377b2c20f9>\"\u001b[1;36m, line \u001b[1;32m7\u001b[0m\n\u001b[1;33m    class ClassName:\u001b[0m\n\u001b[1;37m    ^\u001b[0m\n\u001b[1;31mIndentationError\u001b[0m\u001b[1;31m:\u001b[0m unexpected indent\n"
     ]
    }
   ],
   "source": [
    "# Object oriented programming\n",
    "# object:instance of class\n",
    " # it have properties(var) and actions(methods)\n",
    "# class:\n",
    "# collection of variables and methods\n",
    "# syntax:\n",
    " class ClassName:\n",
    "   # variables\n",
    "   # methods\n",
    "    "
   ]
  },
  {
   "cell_type": "code",
   "execution_count": 25,
   "metadata": {},
   "outputs": [],
   "source": [
    "class Student:\n",
    "    pass"
   ]
  },
  {
   "cell_type": "code",
   "execution_count": 26,
   "metadata": {},
   "outputs": [],
   "source": [
    "# to create a object:\n",
    "#syntax:\n",
    "# var=classname()\n",
    "s=Student()\n"
   ]
  },
  {
   "cell_type": "code",
   "execution_count": 27,
   "metadata": {},
   "outputs": [
    {
     "data": {
      "text/plain": [
       "20"
      ]
     },
     "execution_count": 27,
     "metadata": {},
     "output_type": "execute_result"
    }
   ],
   "source": [
    "class Student:\n",
    "    x=10\n",
    "    y=20\n",
    "Student().x\n",
    "Student().y"
   ]
  },
  {
   "cell_type": "code",
   "execution_count": 28,
   "metadata": {},
   "outputs": [
    {
     "data": {
      "text/plain": [
       "10"
      ]
     },
     "execution_count": 28,
     "metadata": {},
     "output_type": "execute_result"
    }
   ],
   "source": [
    "class Student:\n",
    "    x=10\n",
    "    y=20\n",
    "s=Student()\n",
    "s.x"
   ]
  },
  {
   "cell_type": "code",
   "execution_count": 35,
   "metadata": {},
   "outputs": [
    {
     "name": "stdout",
     "output_type": "stream",
     "text": [
      "enter name of the student:rushitha\n",
      "Hell0 rushitha\n"
     ]
    }
   ],
   "source": [
    "class Student:\n",
    "    def Display(self):\n",
    "        name= input('enter name of the student:')\n",
    "        print('Hell0',name)\n",
    "s=Student()\n",
    "s.Display()"
   ]
  },
  {
   "cell_type": "code",
   "execution_count": 36,
   "metadata": {},
   "outputs": [],
   "source": [
    "# constructor:\n",
    "# syntax:\n",
    "#__init__(self):\n",
    "   # Statements\n",
    "    "
   ]
  },
  {
   "cell_type": "code",
   "execution_count": 39,
   "metadata": {},
   "outputs": [
    {
     "name": "stdout",
     "output_type": "stream",
     "text": [
      "This is constructor\n",
      "hello 2 year having 3 sections\n"
     ]
    }
   ],
   "source": [
    "class CSE:\n",
    "    sections=3\n",
    "    year=2\n",
    "    def __init__(self):\n",
    "        print('This is constructor')\n",
    "    def Details(self):\n",
    "        print('hello {} year having {} sections'.format(CSE.year,CSE.sections))\n",
    "c=CSE()\n",
    "c.Details()"
   ]
  },
  {
   "cell_type": "code",
   "execution_count": 45,
   "metadata": {},
   "outputs": [
    {
     "name": "stdout",
     "output_type": "stream",
     "text": [
      "This is constructor\n"
     ]
    }
   ],
   "source": [
    "class CSE:\n",
    "    def __init__(self,sections,year):\n",
    "        print('This is constructor')\n",
    "        self.setions=sections\n",
    "        self.year=year\n",
    "    def Details(self):\n",
    "        print('hello {} year having {} sections'.format(CSE.year,CSE.sections))\n",
    "c=CSE(3,2)\n"
   ]
  },
  {
   "cell_type": "code",
   "execution_count": 2,
   "metadata": {},
   "outputs": [
    {
     "name": "stdout",
     "output_type": "stream",
     "text": [
      "This is constructor\n",
      "hello 2 year having 3 sections\n"
     ]
    }
   ],
   "source": [
    "class CSE:\n",
    "    def __init__(self,sections,year):\n",
    "        print('This is constructor')\n",
    "        self.sections=sections\n",
    "        self.year=year\n",
    "    def Details(self):\n",
    "        print('hello {} year having {} sections'.format(self.year,self.sections))\n",
    "c=CSE(3,2)\n",
    "c.Details()\n"
   ]
  },
  {
   "cell_type": "code",
   "execution_count": 8,
   "metadata": {},
   "outputs": [],
   "source": [
    "### Inheritance\n",
    "# getting the properties from parent class to child class\n",
    "# Has - A relation"
   ]
  },
  {
   "cell_type": "code",
   "execution_count": 12,
   "metadata": {},
   "outputs": [
    {
     "name": "stdout",
     "output_type": "stream",
     "text": [
      "10\n",
      "20\n",
      "30\n",
      "Parent method..\n",
      "None\n"
     ]
    }
   ],
   "source": [
    "class Parent:\n",
    "    x=10\n",
    "    y=20\n",
    "    def M1(self):\n",
    "        print('Parent method..')\n",
    "class Child:\n",
    "    z=30\n",
    "    def __init__(self):\n",
    "        self.parent=Parent()\n",
    "    def M2(self):\n",
    "        print(self.parent.x)\n",
    "        print(self.parent.y)\n",
    "        print(Child().z)\n",
    "        print(self.parent.M1())\n",
    "c=Child()\n",
    "c.M2()\n",
    "        "
   ]
  },
  {
   "cell_type": "code",
   "execution_count": 16,
   "metadata": {},
   "outputs": [
    {
     "name": "stdout",
     "output_type": "stream",
     "text": [
      "Class A Method\n",
      "Class B method..\n"
     ]
    }
   ],
   "source": [
    "#Is - A Relation:\n",
    "class A:\n",
    "    x=20\n",
    "    y=30\n",
    "    def m1(self):\n",
    "        print('Class A Method')\n",
    "class B(A):\n",
    "    z=40\n",
    "    def m2(self):\n",
    "        print('Class B method..')\n",
    "obj=B()\n",
    "obj.m1()\n",
    "obj.m2()"
   ]
  },
  {
   "cell_type": "code",
   "execution_count": 25,
   "metadata": {},
   "outputs": [
    {
     "name": "stdout",
     "output_type": "stream",
     "text": [
      "Hello Neha Welcome to PACE\n",
      "Hello Doremon Welcome to PACE\n",
      "Hello Nobita Welcome to PACE\n"
     ]
    }
   ],
   "source": [
    "#Multi level inheritance\n",
    "class Parent:\n",
    "    name='Neha'\n",
    "    college='PACE'\n",
    "    def m1(self):\n",
    "        print('Hello',Parent.name,'Welcome to',Parent.college)\n",
    "class Child(Parent):\n",
    "    name1='Doremon'\n",
    "    college='PACE'\n",
    "    def m2(self):\n",
    "        print('Hello',Child.name1,'Welcome to',Child.college)\n",
    "class SubChild(Child):\n",
    "    name2='Nobita'\n",
    "    college='PACE'\n",
    "    def m3(self):\n",
    "        print('Hello',SubChild.name2,'Welcome to',SubChild.college)\n",
    "obj=SubChild()\n",
    "obj.m1()\n",
    "obj.m2()\n",
    "obj.m3()\n",
    "\n",
    "    "
   ]
  },
  {
   "cell_type": "markdown",
   "metadata": {},
   "source": [
    "# Regular Expressions\n",
    "+ Regular Expressions are using patterns\n",
    "+ by using regular expressions in python we can one Module i.e import **re**\n",
    "+ Regular Expression Syntax ---->modulename.methodname(pattern,values or variablenames)\n",
    "\n",
    "# Methods\n",
    "+ search\n",
    "+ match\n",
    "+ findall\n",
    "\n",
    "# Patterns\n",
    "+ ^ - matches the beginning of a line\n",
    "+ $ - matches the end of the line\n",
    "+ . - matches any character\n",
    "+ * - Repeats a character zero or more times\n",
    "+ *? - Repeats a character zero or more times(non-greedy)\n",
    "+ + - Repeats a character one or more times\n",
    "+ +? - Repeats a character one or more times(non-greedy)\n",
    "+ \\d - matches digits \n",
    "+ \\D - matches except digits remaining will return\n",
    "+ \\s - matches whitespace\n",
    "+ \\S - matches any non-whitespace character\n",
    "+ \\w - returns except special characters\n",
    "+ \\W - returns special characters\n",
    "+ [a-z,A-Z] - the set of characters include a range\n",
    "+ [0-9] - the set of characters include a range\n",
    "+ [aeiou] - matches a single character in the listed set\n",
    "+ [^XYZ] - matches a single character not in the listed set\n",
    "+ ( - Indicates where string extraction is to start\n",
    "+ ) - Indicates where string extraction is to end"
   ]
  },
  {
   "cell_type": "code",
   "execution_count": 6,
   "metadata": {},
   "outputs": [],
   "source": [
    "import re"
   ]
  },
  {
   "cell_type": "code",
   "execution_count": 7,
   "metadata": {},
   "outputs": [
    {
     "data": {
      "text/plain": [
       "<re.Match object; span=(0, 2), match='py'>"
      ]
     },
     "execution_count": 7,
     "metadata": {},
     "output_type": "execute_result"
    }
   ],
   "source": [
    "re.search('^py','python workshop')"
   ]
  },
  {
   "cell_type": "code",
   "execution_count": 9,
   "metadata": {},
   "outputs": [
    {
     "data": {
      "text/plain": [
       "<re.Match object; span=(13, 14), match='p'>"
      ]
     },
     "execution_count": 9,
     "metadata": {},
     "output_type": "execute_result"
    }
   ],
   "source": [
    "re.search('p$','pythonworkshop')"
   ]
  },
  {
   "cell_type": "code",
   "execution_count": 21,
   "metadata": {},
   "outputs": [
    {
     "data": {
      "text/plain": [
       "<re.Match object; span=(0, 6), match='python'>"
      ]
     },
     "execution_count": 21,
     "metadata": {},
     "output_type": "execute_result"
    }
   ],
   "source": [
    "re.search('......','pythonworkshop')"
   ]
  },
  {
   "cell_type": "code",
   "execution_count": 22,
   "metadata": {},
   "outputs": [
    {
     "data": {
      "text/plain": [
       "<re.Match object; span=(0, 1), match='2'>"
      ]
     },
     "execution_count": 22,
     "metadata": {},
     "output_type": "execute_result"
    }
   ],
   "source": [
    "re.search('\\d','23-01-2021python')\n"
   ]
  },
  {
   "cell_type": "code",
   "execution_count": 24,
   "metadata": {},
   "outputs": [
    {
     "data": {
      "text/plain": [
       "['2', '3', '0', '1', '2', '0', '2', '1']"
      ]
     },
     "execution_count": 24,
     "metadata": {},
     "output_type": "execute_result"
    }
   ],
   "source": [
    "re.findall('\\d','23-01-2021python')"
   ]
  },
  {
   "cell_type": "code",
   "execution_count": 32,
   "metadata": {},
   "outputs": [
    {
     "data": {
      "text/plain": [
       "['-', '-', 'p', 'y', 't', 'h', 'o', 'n']"
      ]
     },
     "execution_count": 32,
     "metadata": {},
     "output_type": "execute_result"
    }
   ],
   "source": [
    "re.findall('\\D','23-01-2021python')"
   ]
  },
  {
   "cell_type": "code",
   "execution_count": 20,
   "metadata": {},
   "outputs": [
    {
     "data": {
      "text/plain": [
       "[' ', ' ']"
      ]
     },
     "execution_count": 20,
     "metadata": {},
     "output_type": "execute_result"
    }
   ],
   "source": [
    "x='welcome to pythonworkshop'\n",
    "re.findall('\\s',x)"
   ]
  },
  {
   "cell_type": "code",
   "execution_count": 25,
   "metadata": {},
   "outputs": [
    {
     "data": {
      "text/plain": [
       "['w',\n",
       " 'e',\n",
       " 'l',\n",
       " 'c',\n",
       " 'o',\n",
       " 'm',\n",
       " 'e',\n",
       " 't',\n",
       " 'o',\n",
       " 'p',\n",
       " 'y',\n",
       " 't',\n",
       " 'h',\n",
       " 'o',\n",
       " 'n',\n",
       " 'w',\n",
       " 'o',\n",
       " 'r',\n",
       " 'k',\n",
       " 's',\n",
       " 'h',\n",
       " 'o',\n",
       " 'p']"
      ]
     },
     "execution_count": 25,
     "metadata": {},
     "output_type": "execute_result"
    }
   ],
   "source": [
    "x='welcome to pythonworkshop'\n",
    "re.findall('\\S',x)"
   ]
  },
  {
   "cell_type": "code",
   "execution_count": 26,
   "metadata": {},
   "outputs": [
    {
     "data": {
      "text/plain": [
       "<re.Match object; span=(9, 10), match='@'>"
      ]
     },
     "execution_count": 26,
     "metadata": {},
     "output_type": "execute_result"
    }
   ],
   "source": [
    "re.search('\\W','neha123_k@gmail.com')"
   ]
  },
  {
   "cell_type": "code",
   "execution_count": 28,
   "metadata": {},
   "outputs": [
    {
     "data": {
      "text/plain": [
       "['@', '.']"
      ]
     },
     "execution_count": 28,
     "metadata": {},
     "output_type": "execute_result"
    }
   ],
   "source": [
    "re.findall('\\W','neha123_k@gmail.com')"
   ]
  },
  {
   "cell_type": "code",
   "execution_count": 31,
   "metadata": {},
   "outputs": [
    {
     "data": {
      "text/plain": [
       "['n',\n",
       " 'e',\n",
       " 'h',\n",
       " 'a',\n",
       " '1',\n",
       " '2',\n",
       " '3',\n",
       " '_',\n",
       " 'k',\n",
       " 'g',\n",
       " 'm',\n",
       " 'a',\n",
       " 'i',\n",
       " 'l',\n",
       " 'c',\n",
       " 'o',\n",
       " 'm']"
      ]
     },
     "execution_count": 31,
     "metadata": {},
     "output_type": "execute_result"
    }
   ],
   "source": [
    "re.findall('\\w','neha123_k@gmail.com')"
   ]
  },
  {
   "cell_type": "code",
   "execution_count": 38,
   "metadata": {},
   "outputs": [
    {
     "data": {
      "text/plain": [
       "<re.Match object; span=(0, 10), match='8179811737'>"
      ]
     },
     "execution_count": 38,
     "metadata": {},
     "output_type": "execute_result"
    }
   ],
   "source": [
    "# mobile pattern\n",
    "re.search('^[6-9][0-9]{9}$|^[0][6-9][0-9]{9}$|^[+][9][1][6-9][0-9]{9}$','8179811737')"
   ]
  },
  {
   "cell_type": "code",
   "execution_count": 39,
   "metadata": {},
   "outputs": [
    {
     "data": {
      "text/plain": [
       "<re.Match object; span=(0, 11), match='08179811737'>"
      ]
     },
     "execution_count": 39,
     "metadata": {},
     "output_type": "execute_result"
    }
   ],
   "source": [
    "re.search('^[6-9][0-9]{9}$|^[0][6-9][0-9]{9}$|^[+][9][1][6-9][0-9]{9}$','08179811737')"
   ]
  },
  {
   "cell_type": "code",
   "execution_count": 40,
   "metadata": {},
   "outputs": [
    {
     "data": {
      "text/plain": [
       "<re.Match object; span=(0, 13), match='+918179811737'>"
      ]
     },
     "execution_count": 40,
     "metadata": {},
     "output_type": "execute_result"
    }
   ],
   "source": [
    "re.search('^[6-9][0-9]{9}$|^[0][6-9][0-9]{9}$|^[+][9][1][6-9][0-9]{9}$','+918179811737')"
   ]
  },
  {
   "cell_type": "code",
   "execution_count": 44,
   "metadata": {},
   "outputs": [],
   "source": [
    "# mail pattern\n",
    "re.search('^[A-Z][a-z][.][0-9]{1-15}[@][A-Z][a-z]{7}[.][a-z]{3}$','kunduruneha1808@gamil.com')"
   ]
  },
  {
   "cell_type": "code",
   "execution_count": null,
   "metadata": {},
   "outputs": [],
   "source": []
  }
 ],
 "metadata": {
  "kernelspec": {
   "display_name": "Python 3",
   "language": "python",
   "name": "python3"
  },
  "language_info": {
   "codemirror_mode": {
    "name": "ipython",
    "version": 3
   },
   "file_extension": ".py",
   "mimetype": "text/x-python",
   "name": "python",
   "nbconvert_exporter": "python",
   "pygments_lexer": "ipython3",
   "version": "3.8.5"
  }
 },
 "nbformat": 4,
 "nbformat_minor": 4
}
